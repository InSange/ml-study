{
 "cells": [
  {
   "cell_type": "markdown",
   "metadata": {
    "deletable": false,
    "editable": false,
    "id": "P8WnFoJgRp3l",
    "nbgrader": {
     "checksum": "a72213caf229980373130c6f1679227c",
     "grade": false,
     "grade_id": "cell-018440ed2f1b6a62",
     "locked": true,
     "schema_version": 1,
     "solution": false
    }
   },
   "source": [
    "# **과제 1**\n",
    "\n",
    "이 과제를 하기 위해서는 `pandas`에 대해서 수업의 4장에서 다룬 내용 이외의 함수나 기능에 대한 지식이 필요할 수 있다. 필요한 경우 [pandas 문서](http://pandas.pydata.org/pandas-docs/stable/) 혹은 [Stack Overflow](http://stackoverflow.com/)를 참조하라."
   ]
  },
  {
   "cell_type": "markdown",
   "metadata": {
    "id": "uGumG5M_DVDt"
   },
   "source": [
    "### 제출방법\n",
    "\n",
    "모든 코드는 이 노트북 파일에 작성한다. 이 파일의 곳곳에 \n",
    "\n",
    "`# YOUR CODE HERE`\n",
    "\n",
    "라고 표시된 부분에 코드를 작성한 후 이 노트북 파일을 제출하면 된다. **제출은 LMS를 통해서 한다**."
   ]
  },
  {
   "cell_type": "code",
   "execution_count": 1,
   "metadata": {
    "id": "97acCsHJRp3p"
   },
   "outputs": [],
   "source": [
    "import pandas as pd\n",
    "import numpy as np\n",
    "import re"
   ]
  },
  {
   "cell_type": "code",
   "execution_count": 2,
   "metadata": {
    "colab": {
     "base_uri": "https://localhost:8080/"
    },
    "executionInfo": {
     "elapsed": 16556,
     "status": "ok",
     "timestamp": 1651371996229,
     "user": {
      "displayName": "권오흠",
      "userId": "05475008821310211864"
     },
     "user_tz": -540
    },
    "id": "mdI5qhAfjrZ1",
    "outputId": "49e01d9b-137f-43ec-8988-b7790efbcf16"
   },
   "outputs": [
    {
     "ename": "ModuleNotFoundError",
     "evalue": "No module named 'google'",
     "output_type": "error",
     "traceback": [
      "\u001b[1;31m---------------------------------------------------------------------------\u001b[0m",
      "\u001b[1;31mModuleNotFoundError\u001b[0m                       Traceback (most recent call last)",
      "\u001b[1;32m~\\AppData\\Local\\Temp/ipykernel_9344/2258033288.py\u001b[0m in \u001b[0;36m<module>\u001b[1;34m\u001b[0m\n\u001b[1;32m----> 1\u001b[1;33m \u001b[1;32mfrom\u001b[0m \u001b[0mgoogle\u001b[0m\u001b[1;33m.\u001b[0m\u001b[0mcolab\u001b[0m \u001b[1;32mimport\u001b[0m \u001b[0mdrive\u001b[0m\u001b[1;33m\u001b[0m\u001b[1;33m\u001b[0m\u001b[0m\n\u001b[0m\u001b[0;32m      2\u001b[0m \u001b[0mdrive\u001b[0m\u001b[1;33m.\u001b[0m\u001b[0mmount\u001b[0m\u001b[1;33m(\u001b[0m\u001b[1;34m'/content/drive/'\u001b[0m\u001b[1;33m)\u001b[0m\u001b[1;33m\u001b[0m\u001b[1;33m\u001b[0m\u001b[0m\n",
      "\u001b[1;31mModuleNotFoundError\u001b[0m: No module named 'google'"
     ]
    }
   ],
   "source": [
    "from google.colab import drive\n",
    "drive.mount('/content/drive/')"
   ]
  },
  {
   "cell_type": "markdown",
   "metadata": {
    "id": "pWzXiWOOjLWS"
   },
   "source": [
    "먼저 `Excel` 파일을 로드하기 위해서 필요한 `xlrd` 패키지를 다음과 같이 업그레이드한다."
   ]
  },
  {
   "cell_type": "code",
   "execution_count": null,
   "metadata": {
    "colab": {
     "base_uri": "https://localhost:8080/"
    },
    "executionInfo": {
     "elapsed": 4397,
     "status": "ok",
     "timestamp": 1651372046208,
     "user": {
      "displayName": "권오흠",
      "userId": "05475008821310211864"
     },
     "user_tz": -540
    },
    "id": "Aft69_uFk3BO",
    "outputId": "c84d9263-cbf2-4eed-e609-1feb9c18f3dd"
   },
   "outputs": [],
   "source": [
    "!pip install --upgrade xlrd"
   ]
  },
  {
   "cell_type": "markdown",
   "metadata": {
    "deletable": false,
    "editable": false,
    "id": "r5pN7ZeERp3q",
    "nbgrader": {
     "checksum": "68063b8b0783f3d8122b516e0cce5f45",
     "grade": false,
     "grade_id": "cell-7e5190c7ff1f2e42",
     "locked": true,
     "schema_version": 1,
     "solution": false
    }
   },
   "source": [
    "### 문제 1\n",
    "제공된 데이터 파일 `Energy Indicators2017.xlsx`은 UN의 [자료](https://unstats.un.org/unsd/envstats/qindicators)이며, 국가별로 에너지 공급량(Energy Supply), 개인별 에너지 공급량(Energy Supply per capita), 그리고 재생 에너지 비중(Renewable Electricity Production)에 관한 데이터를 가진 파일이다. \n",
    "\n",
    "이 파일를 로드하여 `Enery_df`라는 이름의 하나의 DataFrame을 생성한다. 이 파일은 `Excel` 파일이며 2장의 sheet로 구성되어 있는데 그 중에서 이름이 `Data`인 sheet만 읽어온다. 또한 불필요한 footer와 header가 포함되어 있다. 이런 불필요한 부분을 빼고 총 217개의 국가와 `Country and area`,\t`Energy supply (petajoules)`,\t`Energy supply per capita (gigajoules per capita)`, 그리고\t`Conribution of renewables to electricity production (%)`라는 이름의 4개의 컬럼만을 읽어온다. 자동으로 생성된 정수 인덱스를 사용하라. `Excel` 파일을 읽기 위해서 `pandas.read_excel()` 함수를 사용하라. 이 함수에 대한 자세한 사항은 [문서](https://pandas.pydata.org/docs/reference/api/pandas.read_excel.html)를 참조하라.\n",
    "\n",
    "DataFrame을 생성한 후 컬럼들의 명칭을 `['Country', 'Energy Supply', 'Energy Supply per Capita', '% Renewable]`로 변경하라.\n",
    "\n",
    "이 테이블에서 에너지 공급량(`Energy Supply`)의 단위는 `petajoule`이고 개인별 에너지 공급량(`Energy Supply per capita`)의 단위는 `gigajoule`이다. 에너지 공급량(`Energy Supply`)의 단위를 `gigajoule`로 변경하라. `1 petajoule` = `1,000,000 gigajoules`이다.\n",
    "\n",
    "테이블에서 결측값이 존재하는지 확인하고 이들이 DataFrame에서 `NaN`으로 표현되도록 해야한다.\n",
    "\n",
    "다음 4개의 국가들은 이름을 변경하라.\n",
    "```\n",
    "\"Korea, Republic of\": \"South Korea\", \n",
    "\"United States of America\": \"United States\", \n",
    "\"United Kingdom of Great Britain and Northern Ireland\": \"United Kingdom\", \"China, Hong Kong SAR\": \"Hong Kong\"\n",
    "```\n",
    "\n",
    "또한 몇몇 국가들은 이름에 괄호가 포함되어 있다. 괄호로 묶인 부분들을 이름에서 제거하라. 예를 들어 `Venezuela (Bolivar. Rep.)`는 `Venezuela`로 변경한다.\n",
    "\n",
    "이상에서 설명한대로 DataFrame `Energy_df`를 생성하여 반환하는 함수 `answer_one`을 작성하라."
   ]
  },
  {
   "cell_type": "code",
   "execution_count": null,
   "metadata": {
    "id": "ApoCS7V7oppe"
   },
   "outputs": [],
   "source": [
    "def answer_one():\n",
    "  # YOUR CODE HERE\n",
    "\n",
    "  return None"
   ]
  },
  {
   "cell_type": "code",
   "execution_count": null,
   "metadata": {
    "id": "uKa0877MsB8v"
   },
   "outputs": [],
   "source": [
    "answer_one()"
   ]
  },
  {
   "cell_type": "markdown",
   "metadata": {
    "id": "xJmswzODgfbt"
   },
   "source": [
    "### 문제 2"
   ]
  },
  {
   "cell_type": "markdown",
   "metadata": {
    "id": "RGxowPHcSwJ3"
   },
   "source": [
    "다음으로 `world_bank2020.csv` 파일을 로드한다. 이 파일은 각 국가의 1960년 부터 2020년 까지의 GDP를 저장한 [세계은행의 데이터](http://data.worldbank.org/indicator/NY.GDP.MKTP.CD) 파일이다. 이 파일을 읽어서 `GDP_df`라는 이름의 DataFrame을 생성하라.\n",
    "\n",
    "불필요한 해더 정보들을 skip하고 국가 이름과 2011년 부터 2020년까지의 10년간의 GDP 데이터만 남기고 나머지 컬럼들은 모두 삭제한다. 컬럼 이름 `Country Name`을 그냥 `Country`로 변경하라.\n",
    "\n",
    "또한 몇몇 국가의 이름을 다음과 같이 변경한다.\n",
    "```\n",
    "\"Korea, Rep.\": \"South Korea\", \n",
    "\"Iran, Islamic Rep.\": \"Iran\",\n",
    "\"Hong Kong SAR, China\": \"Hong Kong\"\n",
    "```\n",
    "\n",
    "이 일을 하는 함수 `answer_two`를 작성하라. 함수 answer_two는 `GDP_df`를 반환한다."
   ]
  },
  {
   "cell_type": "code",
   "execution_count": null,
   "metadata": {
    "id": "YhtRCdEXs78c"
   },
   "outputs": [],
   "source": [
    "def answer_two():\n",
    "  # YOUR CODE HERE\n",
    "\n",
    "  return None"
   ]
  },
  {
   "cell_type": "code",
   "execution_count": null,
   "metadata": {
    "id": "cDdFu6VVuUgh"
   },
   "outputs": [],
   "source": [
    "answer_two()"
   ]
  },
  {
   "cell_type": "markdown",
   "metadata": {
    "id": "5zSIcQkziEsl"
   },
   "source": [
    "### 문제 3"
   ]
  },
  {
   "cell_type": "markdown",
   "metadata": {
    "id": "hGVFOSLrfgzf"
   },
   "source": [
    "마지막으로 `scimagojr-3.xlsx` 파일을 읽어 `ScimEn_df`라는 이름의 DataFrame을 생성한다. 이 데이터는 학술 저널 [Sciamgo Journal and Country Rank data for Energy Engineering and Power Technology](http://www.scimagojr.com/countryrank.php?category=2102)에 게제된 논문 편수에 대한 국가별 랭킹 자료이다.\n",
    "함수 `answer_three`에서 이 일을 하고 데어터 프레임 `ScimEn_df`을 반환하라.\n"
   ]
  },
  {
   "cell_type": "code",
   "execution_count": null,
   "metadata": {
    "id": "onjN7hUPvE73"
   },
   "outputs": [],
   "source": [
    "def answer_three():\n",
    "  # YOUR CODE HERE\n",
    "\n",
    "  return None"
   ]
  },
  {
   "cell_type": "code",
   "execution_count": null,
   "metadata": {
    "id": "XlKgv37Hqy8S"
   },
   "outputs": [],
   "source": [
    "answer_three()"
   ]
  },
  {
   "cell_type": "markdown",
   "metadata": {
    "id": "aZ1IFhG-icky"
   },
   "source": [
    "### 문제 4"
   ]
  },
  {
   "cell_type": "markdown",
   "metadata": {
    "id": "wUwLpraJibSU"
   },
   "source": [
    "지금까지 만든 3개의 DataFrame을 국가 이름(`Country`)을 기준으로 합쳐서(`merge`) 하나의 DataFrame을 만들어라. 단, `ScimEn_df`에서 상위 15개의 국가만을(Rank 1-15) 포함하라. 만들어진 DataFrame의 인덱스를 국가명(`Country`)으로 설정하라.\n",
    "\n",
    "결과적으로 만들어진 DataFrame은 국가명(`Country`)을 인덱스로 가지며, 15개의 행을 가지며, 다음의 컬럼들 만을 포함해야 한다.\n",
    "['Rank', 'Documents', 'Citable documents', 'Citations', 'Self-citations',\n",
    "       'Citations per document', 'H index', 'Energy Supply',\n",
    "       'Energy Supply per Capita', '% Renewable', '2011', '2012', '2013',\n",
    "       '2014', '2015', '2016', '2017', '2018', '2019', '2020'].\n",
    "\n",
    "이런 일을 하나의 함수 `answer_four()`로 구현하라. `answer_four`에서는 위의 문제들에서 작성한 함수들(`answer_one`, `answer_two`, `answer_three`)를 이용한다. 함수 `answer_four`는 결과적으로 국가명을 인덱스로 가지고 15개의 행과 20개의 컬럼을 가진 하나의 DataFrame을 반환한다. 이 DataFrame은 `Rank`에 의해서 정렬되어 있어야 한다."
   ]
  },
  {
   "cell_type": "code",
   "execution_count": null,
   "metadata": {
    "id": "GJAntILOwfjr"
   },
   "outputs": [],
   "source": [
    "def answer_four():\n",
    "  # YOUR CODE HERE\n",
    "\n",
    "  return None"
   ]
  },
  {
   "cell_type": "code",
   "execution_count": null,
   "metadata": {
    "id": "-dYtjVhIxkl0"
   },
   "outputs": [],
   "source": [
    "answer_four()"
   ]
  },
  {
   "cell_type": "markdown",
   "metadata": {
    "deletable": false,
    "editable": false,
    "id": "aYYfdMBBRp3u",
    "nbgrader": {
     "checksum": "5af1b4f99cd383263130f4c00442a133",
     "grade": false,
     "grade_id": "cell-2e54816014e48c18",
     "locked": true,
     "schema_version": 1,
     "solution": false
    }
   },
   "source": [
    "### 문제 5\n",
    "문제 2에서 생성한 `GDP_df`에서 최근 10년간의 평균 GDP가 가장 높은 상위 15개 국가의 이름을 1위부터 15위까지의 순서로 저장하는 `Series`를 반환하는 함수 `answer_five`를 작성하라. 이 `Series`는 국가명을 인덱스로 하고 평균 GDP를 값으로 가진다. 참고로 GDP 데이터 파일에는 국가가 아닌 세계 전체, 유럽, OECD 회원국 등의 항목도 포함되어 있다. 15개의 국가는 `ScimEn_df` 데이터프레임에 존재하는 국가들로 한정하라.\n"
   ]
  },
  {
   "cell_type": "code",
   "execution_count": null,
   "metadata": {
    "deletable": false,
    "id": "cKBa5GiHRp3u",
    "nbgrader": {
     "checksum": "a3490fd71a46cecfa3da698e006fe729",
     "grade": false,
     "grade_id": "cell-8c3d74335c0d489a",
     "locked": false,
     "schema_version": 1,
     "solution": true
    }
   },
   "outputs": [],
   "source": [
    "def answer_five():\n",
    "  # YOUR CODE HERE\n",
    "  \n",
    "  return None"
   ]
  },
  {
   "cell_type": "code",
   "execution_count": null,
   "metadata": {
    "id": "DcLN1ATj2cYn"
   },
   "outputs": [],
   "source": [
    "answer_five()"
   ]
  },
  {
   "cell_type": "markdown",
   "metadata": {
    "deletable": false,
    "editable": false,
    "id": "LlhqtqNERp3x",
    "nbgrader": {
     "checksum": "7be7b86ee7467539dd88746818c78c0e",
     "grade": false,
     "grade_id": "cell-5c89296ab6f94218",
     "locked": true,
     "schema_version": 1,
     "solution": false
    }
   },
   "source": [
    "### 문제 6\n",
    "\n",
    "문제 4에서 만든 15개의 국가에 대한 데이터 프레임에서 총 에너지 공급량에 개인당 에너지 공급량을 나누어서 각 국가의 인구수의 추정치를 계산하여 `Population`이라는 이름의 컬럼으로 추가하라. 인구추정치는 소숫점 이하를 절삭하여 정수로 저장하라. 인구 추정치에 대해서 내림차순으로 정렬하라. 마지막으로 \n",
    "인구 추정치(`Population`)는 다음과 같이 3자리마다 콤마(,)가 추가된 형식의 문자열로 변환하여 저장하라.\n",
    "\n",
    "예: 12345678 -> 12,345,678\n",
    "\n",
    "함수 `answer_six`는 이 데이터 프레임을 반환한다."
   ]
  },
  {
   "cell_type": "code",
   "execution_count": null,
   "metadata": {
    "deletable": false,
    "id": "f-zgwuxFRp3x",
    "nbgrader": {
     "checksum": "9d733b2abf089b1931e2e792ff51d488",
     "grade": false,
     "grade_id": "cell-9ca58137846b84d6",
     "locked": false,
     "schema_version": 1,
     "solution": true
    }
   },
   "outputs": [],
   "source": [
    "def answer_six():\n",
    "    # YOUR CODE HERE\n",
    "\n",
    "    return None"
   ]
  },
  {
   "cell_type": "code",
   "execution_count": null,
   "metadata": {
    "id": "DYX8h8eD5ZBR"
   },
   "outputs": [],
   "source": [
    "answer_six()"
   ]
  },
  {
   "cell_type": "markdown",
   "metadata": {
    "deletable": false,
    "editable": false,
    "id": "BinP4LmZRp3x",
    "nbgrader": {
     "checksum": "164cba98164a1045db7de10dd37115c8",
     "grade": false,
     "grade_id": "cell-2065207e66e5ec01",
     "locked": true,
     "schema_version": 1,
     "solution": false
    }
   },
   "source": [
    "### 문제 7\n",
    "문제 6에서 만든 15개의 국가에 대한 데이터 프레임에 대해서 다음과 같은 일을 한다. \n",
    "\n",
    "각 국가에 대해서 논문수(`Documents`)를 인구(`Population`)으로 나누어 개인당 논문 개수를 계산하여 저장하는 컬럼 `Documents per person`을 추가하라. 그런 다음 개인 당 논문의 개수(`Documents per person`)와 개인당 에너지 공급량(`Energy Supply per Capita`) 간의 상관계수를 계산하여 반환하는 함수 `answer_seven`을 작성하라. 상관계수는 `.corr()` 메서드를 이용하여 계산하고, 방법(`method`)은 Pearson's correlation을 사용하라. 이 함수는 하나의 실수를 반환한다.\n",
    "\n",
    "*(Optional: Use the built-in function `plot9()` to visualize the relationship between Energy Supply per Capita vs. Citable docs per Capita)*"
   ]
  },
  {
   "cell_type": "code",
   "execution_count": null,
   "metadata": {
    "deletable": false,
    "id": "WSFwTZo4Rp3x",
    "nbgrader": {
     "checksum": "94e06c4c3a9618b94dbb0e86913b546c",
     "grade": false,
     "grade_id": "cell-033679ea456bfb9d",
     "locked": false,
     "schema_version": 1,
     "solution": true
    }
   },
   "outputs": [],
   "source": [
    "def answer_seven():\n",
    "    # YOUR CODE HERE\n",
    "\n",
    "    return None"
   ]
  },
  {
   "cell_type": "code",
   "execution_count": null,
   "metadata": {
    "id": "qbLiggBW_p0A"
   },
   "outputs": [],
   "source": [
    "answer_seven()"
   ]
  },
  {
   "cell_type": "markdown",
   "metadata": {
    "id": "v7gd_OvlA3QK"
   },
   "source": [
    "### 참고:"
   ]
  },
  {
   "cell_type": "markdown",
   "metadata": {
    "id": "nUnvMeXMBCrq"
   },
   "source": [
    "아래의 코드들은 `answer_four()`의 결과를 차트로 그려서 시각화해주는 함수들이다. 참고용이다."
   ]
  },
  {
   "cell_type": "code",
   "execution_count": null,
   "metadata": {
    "deletable": false,
    "editable": false,
    "id": "L6rrRSy2Rp3x",
    "nbgrader": {
     "checksum": "01a146bbcca0fa9c9c13e71ab52e710f",
     "grade": false,
     "grade_id": "cell-644824f6c708bf80",
     "locked": true,
     "schema_version": 1,
     "solution": false
    }
   },
   "outputs": [],
   "source": [
    "def plot8():\n",
    "    import matplotlib as plt\n",
    "    %matplotlib inline\n",
    "    \n",
    "    Top15 = answer_four()\n",
    "    Top15['PopEst'] = Top15['Energy Supply'] / Top15['Energy Supply per Capita']\n",
    "    Top15['Citable docs per Capita'] = Top15['Citable documents'] / Top15['PopEst']\n",
    "    Top15.plot(x='Citable docs per Capita', y='Energy Supply per Capita', kind='scatter', xlim=[0, 0.0006])"
   ]
  },
  {
   "cell_type": "code",
   "execution_count": null,
   "metadata": {
    "colab": {
     "base_uri": "https://localhost:8080/",
     "height": 279
    },
    "executionInfo": {
     "elapsed": 839,
     "status": "ok",
     "timestamp": 1651381535940,
     "user": {
      "displayName": "권오흠",
      "userId": "05475008821310211864"
     },
     "user_tz": -540
    },
    "id": "RgcNYKXq90bP",
    "outputId": "e8cf9256-7461-4437-efff-d86d1a16eb50"
   },
   "outputs": [],
   "source": [
    "plot8()"
   ]
  },
  {
   "cell_type": "code",
   "execution_count": null,
   "metadata": {
    "deletable": false,
    "editable": false,
    "id": "M2J1fEk2Rp30",
    "nbgrader": {
     "checksum": "479786c97cb5f34d07231c6d7c602a47",
     "grade": false,
     "grade_id": "cell-741fd55ea57cd40a",
     "locked": true,
     "schema_version": 1,
     "solution": false
    }
   },
   "outputs": [],
   "source": [
    "def plot_optional():\n",
    "    import matplotlib as plt\n",
    "    %matplotlib inline\n",
    "    Top15 = answer_four()\n",
    "    ax = Top15.plot(x='Rank', y='% Renewable', kind='scatter', \n",
    "                    c=['#e41a1c','#377eb8','#e41a1c','#4daf4a','#4daf4a','#377eb8','#4daf4a','#e41a1c',\n",
    "                       '#4daf4a','#e41a1c','#4daf4a','#4daf4a','#e41a1c','#dede00','#ff7f00'], \n",
    "                    xticks=range(1,16), s=6*Top15['2014']/10**10, alpha=.75, figsize=[16,6]);\n",
    "\n",
    "    for i, txt in enumerate(Top15.index):\n",
    "        ax.annotate(txt, [Top15['Rank'][i], Top15['% Renewable'][i]], ha='center')\n",
    "\n",
    "    print(\"This is an example of a visualization that can be created to help understand the data. \\\n",
    "This is a bubble chart showing % Renewable vs. Rank. The size of the bubble corresponds to the countries' \\\n",
    "2020 GDP, and the color corresponds to the continent.\")"
   ]
  },
  {
   "cell_type": "code",
   "execution_count": null,
   "metadata": {
    "colab": {
     "base_uri": "https://localhost:8080/",
     "height": 426
    },
    "executionInfo": {
     "elapsed": 574,
     "status": "ok",
     "timestamp": 1651381591038,
     "user": {
      "displayName": "권오흠",
      "userId": "05475008821310211864"
     },
     "user_tz": -540
    },
    "id": "mZNcepVo3__4",
    "outputId": "5e3aa03e-1a1f-462e-d87e-cc86fa10ea22"
   },
   "outputs": [],
   "source": [
    "plot_optional()"
   ]
  }
 ],
 "metadata": {
  "anaconda-cloud": {},
  "colab": {
   "collapsed_sections": [],
   "name": "assignment1.ipynb",
   "provenance": [],
   "toc_visible": true
  },
  "coursera": {
   "schema_names": [
    "mooc_adswpy_1_v2_assignment3"
   ]
  },
  "kernelspec": {
   "display_name": "Python 3 (ipykernel)",
   "language": "python",
   "name": "python3"
  },
  "language_info": {
   "codemirror_mode": {
    "name": "ipython",
    "version": 3
   },
   "file_extension": ".py",
   "mimetype": "text/x-python",
   "name": "python",
   "nbconvert_exporter": "python",
   "pygments_lexer": "ipython3",
   "version": "3.9.7"
  }
 },
 "nbformat": 4,
 "nbformat_minor": 1
}
